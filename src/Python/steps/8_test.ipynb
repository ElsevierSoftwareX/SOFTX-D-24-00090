{
 "cells": [
  {
   "cell_type": "markdown",
   "metadata": {},
   "source": [
    "Prerequisites:\n",
    "1. Run `steps/train.ipynb`\n",
    "\n"
   ]
  },
  {
   "cell_type": "markdown",
   "metadata": {},
   "source": [
    "# Imports and Constants"
   ]
  },
  {
   "cell_type": "code",
   "execution_count": null,
   "metadata": {},
   "outputs": [],
   "source": [
    "%load_ext autoreload\n",
    "%autoreload 2\n",
    "import pandas as pd\n",
    "import numpy as np\n",
    "import matplotlib.pyplot as plt\n",
    "# change directory to repo root, and verify\n",
    "%cd '/hdd/home/abenabbes/Ali-a'\n",
    "!pwd\n"
   ]
  },
  {
   "cell_type": "code",
   "execution_count": null,
   "metadata": {},
   "outputs": [],
   "source": [
    "#extract features from the saved checkpoints from each fold \n",
    "!python extract_features.py"
   ]
  },
  {
   "cell_type": "code",
   "execution_count": null,
   "metadata": {},
   "outputs": [],
   "source": [
    "#change path\n",
    "data=np.load('/hdd/home/abenabbes/final_ex/nouveau/dhsincountry/DHS_Incountry_A_nl_random_b64_fc1.0_conv1.0_lr0001/feaj20.npz')\n",
    "for key, value in data.items():\n",
    "    np.savetxt(\"estimation5/somepathtestA\" + key + \".csv\", value)"
   ]
  },
  {
   "cell_type": "code",
   "execution_count": null,
   "metadata": {},
   "outputs": [],
   "source": [
    "#change path\n",
    "data=np.load('/hdd/home/abenabbes/final_ex/nouveau/dhsincountry/DHS_Incountry_B_nl_random_b64_fc1.0_conv1.0_lr0001/feaj20.npz')\n",
    "for key, value in data.items():\n",
    "    np.savetxt(\"estimation5/somepathtestB\" + key + \".csv\", value)"
   ]
  },
  {
   "cell_type": "code",
   "execution_count": null,
   "metadata": {},
   "outputs": [],
   "source": [
    "#change path\n",
    "data=np.load('/hdd/home/abenabbes/final_ex/nouveau/dhsincountry/DHS_Incountry_C_nl_random_b64_fc1.0_conv1.0_lr0001/feaj20.npz')\n",
    "for key, value in data.items():\n",
    "    np.savetxt(\"estimation5/somepathtestC\" + key + \".csv\", value)\n"
   ]
  },
  {
   "cell_type": "code",
   "execution_count": null,
   "metadata": {},
   "outputs": [],
   "source": [
    "#change path\n",
    "data=np.load('/hdd/home/abenabbes/final_ex/nouveau/dhsincountry/DHS_Incountry_D_nl_random_b64_fc1.0_conv1.0_lr0001/feaj20.npz')\n",
    "for key, value in data.items():\n",
    "    np.savetxt(\"estimation5/somepathtestD\" + key + \".csv\", value)"
   ]
  },
  {
   "cell_type": "code",
   "execution_count": null,
   "metadata": {},
   "outputs": [],
   "source": [
    "#change path\n",
    "data=np.load('/hdd/home/abenabbes/final_ex/nouveau/dhsincountry/DHS_Incountry_E_nl_random_b64_fc1_conv1.0_lr001/feaj20.npz')\n",
    "for key, value in data.items():\n",
    "    np.savetxt(\"estimation5/somepathtestE\" + key + \".csv\", value)"
   ]
  },
  {
   "cell_type": "code",
   "execution_count": null,
   "metadata": {},
   "outputs": [],
   "source": [
    "#load the predictions files from each fold A B C D E\n",
    "\n",
    "#years for prediction, is the same for all folds\n",
    "year = pd.read_csv('estimation5/somepathtestdavidAyears.csv',  names=['year']).astype(int)\n",
    "\n",
    "#loc for villages (lat, lon)\n",
    "\n",
    "loc = pd.read_csv('estimation5/somepathtestdavidAlocs.csv',sep = ' ',  names=['lat','lon'])\n",
    "\n",
    "#pred\n",
    "predA = pd.read_csv('estimation5/somepathtestApreds.csv',  names=['predictionA'])\n",
    "predB = pd.read_csv('estimation5/somepathtestBpreds.csv',  names=['predictionB'])\n",
    "predC = pd.read_csv('estimation5/somepathtestdavidCpreds.csv',  names=['predictionC'])\n",
    "predD = pd.read_csv('estimation5/somepathtestDpreds.csv',  names=['predictionD'])\n",
    "predE = pd.read_csv('estimation5/somepathtestEpreds.csv',  names=['predictionE'])"
   ]
  },
  {
   "cell_type": "code",
   "execution_count": null,
   "metadata": {},
   "outputs": [],
   "source": [
    "year.describe()\n"
   ]
  },
  {
   "cell_type": "code",
   "execution_count": null,
   "metadata": {},
   "outputs": [],
   "source": [
    "predA.describe()"
   ]
  },
  {
   "cell_type": "code",
   "execution_count": null,
   "metadata": {},
   "outputs": [],
   "source": [
    "#Création d'une dataframe de la moyenne des prédiction pour chaque configuration\n",
    "dfpred = pd.concat([predA, predB, predC, predD, predE], axis =1)\n",
    "dfpred_mean = dfpred.mean(axis =1).rename( 'prediction')\n",
    "\n",
    "#Création de la dataframe de toutes nos données \n",
    "dfData = pd.concat([year, loc, dfpred_mean], axis = 1)\n",
    "\n",
    "dfData\n"
   ]
  },
  {
   "cell_type": "code",
   "execution_count": null,
   "metadata": {},
   "outputs": [],
   "source": [
    "#years extraction from all csv files \n",
    "\n",
    "diff_year = year.drop_duplicates()['year'].tolist()  #drop_duplicates() renvoie la dataframe de chaque année\n",
    "\n",
    "diff_year"
   ]
  },
  {
   "cell_type": "code",
   "execution_count": null,
   "metadata": {},
   "outputs": [],
   "source": [
    "#group by year\n",
    "\n",
    "year_group = dfData.groupby(dfData.year) \n",
    "\n",
    "\n",
    "\n",
    "#Final Dataframe \n",
    "\n",
    "#initialisation \n",
    "dftot =year_group.get_group(diff_year[0]).drop(['year'],axis=1).rename(columns={'prediction': str(diff_year[0])})\n",
    "\n",
    "for ind in range(len(diff_year)-1): #Parcours de la liste des années pour merge les year_group en fonction de lat lon\n",
    "    dftot = pd.merge(dftot,\n",
    "                     year_group.get_group(diff_year[ind+1]).drop(['year'],axis=1).rename(columns={'prediction': str(diff_year[ind+1])}),\n",
    "                     how ='outer')\n",
    "dftot = dftot.sort_values(by = 'lat')    \n",
    "print(dftot)\n",
    "    #merge récursif des year_group, suppression de la variable year, rename des variable prediction en fonction de l'année\n",
    "    #how = 'outer' pour prendre en compte les données manquantes'''"
   ]
  },
  {
   "cell_type": "code",
   "execution_count": null,
   "metadata": {},
   "outputs": [],
   "source": [
    "dftot.to_csv(\"/hdd/home/abenabbes/Australie_1996.csv\", index=False)"
   ]
  },
  {
   "cell_type": "code",
   "execution_count": null,
   "metadata": {},
   "outputs": [],
   "source": []
  }
 ],
 "metadata": {
  "kernelspec": {
   "display_name": "Python 3",
   "language": "python",
   "name": "python3"
  },
  "language_info": {
   "codemirror_mode": {
    "name": "ipython",
    "version": 3
   },
   "file_extension": ".py",
   "mimetype": "text/x-python",
   "name": "python",
   "nbconvert_exporter": "python",
   "pygments_lexer": "ipython3",
   "version": "3.7.11"
  },
  "toc": {
   "base_numbering": 1,
   "nav_menu": {},
   "number_sections": true,
   "sideBar": true,
   "skip_h1_title": false,
   "title_cell": "Table of Contents",
   "title_sidebar": "Contents",
   "toc_cell": true,
   "toc_position": {
    "height": "calc(100% - 180px)",
    "left": "10px",
    "top": "150px",
    "width": "307.2px"
   },
   "toc_section_display": true,
   "toc_window_display": true
  }
 },
 "nbformat": 4,
 "nbformat_minor": 2
}
