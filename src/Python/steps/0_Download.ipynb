{
 "cells": [
  {
   "cell_type": "markdown",
   "metadata": {
    "toc": true
   },
   "source": [
    "<h1>Table of Contents<span class=\"tocSkip\"></span></h1>\n",
    "<div class=\"toc\"><ul class=\"toc-item\"><li><span><a href=\"#Pre-requisites\" data-toc-modified-id=\"Pre-requisites-1\"><span class=\"toc-item-num\">1&nbsp;&nbsp;</span>Pre-requisites</a></span></li><li><span><a href=\"#Instructions\" data-toc-modified-id=\"Instructions-2\"><span class=\"toc-item-num\">2&nbsp;&nbsp;</span>Instructions</a></span></li><li><span><a href=\"#Imports-and-Constants\" data-toc-modified-id=\"Imports-and-Constants-3\"><span class=\"toc-item-num\">3&nbsp;&nbsp;</span>Imports and Constants</a></span></li><li><span><a href=\"#Constants\" data-toc-modified-id=\"Constants-4\"><span class=\"toc-item-num\">4&nbsp;&nbsp;</span>Constants</a></span></li><li><span><a href=\"#Export-Images\" data-toc-modified-id=\"Export-Images-5\"><span class=\"toc-item-num\">5&nbsp;&nbsp;</span>Export Images</a></span></li></ul></div>"
   ]
  },
  {
   "cell_type": "markdown",
   "metadata": {},
   "source": [
    "## Pre-requisites\n",
    "In order to use the `ee.Initialize()` command without receiving an error message, it is necessary to register a Google account at [https://code.earthengine.google.com](https://code.earthengine.google.com). This process may take a few days.\n",
    "\n",
    "\n",
    "## Instructions\n",
    "Before exporting satellite and nightlight image composites from Google Earth Engine, it is important to note that the exported images are saved in gzipped TFRecord format, which requires sufficient storage space. Thus, it is necessary to ensure adequate storage space before proceeding with the export process.\n",
    "\n",
    "\n",
    "\n",
    "\n",
    "After downloading the TFRecord files, the `data/` directory should look as follows, where `XX` depends on the `CHUNK_SIZE` parameter used:\n",
    "\n",
    "```\n",
    "data/\n",
    "    dhs_tfrecords_raw/\n",
    "        angola_2011_00.tfrecord.gz\n",
    "        ...\n",
    "        zimbabwe_2015_XX.tfrecord.gz\n",
    "    \n",
    "```\n",
    "\n"
   ]
  },
  {
   "cell_type": "markdown",
   "metadata": {},
   "source": [
    "## Imports and Constants"
   ]
  },
  {
   "cell_type": "code",
   "execution_count": 1,
   "metadata": {},
   "outputs": [
    {
     "name": "stdout",
     "output_type": "stream",
     "text": [
      "[WinError 3] Le chemin d’accès spécifié est introuvable: \"'../'\"\n",
      "C:\\Users\\ALI\\Desktop\\code_clean\n"
     ]
    }
   ],
   "source": [
    "%load_ext autoreload\n",
    "%autoreload 2\n",
    "\n",
    "# change directory to repo root, and verify\n",
    "%cd '../'\n"
   ]
  },
  {
   "cell_type": "code",
   "execution_count": 2,
   "metadata": {},
   "outputs": [
    {
     "name": "stderr",
     "output_type": "stream",
     "text": [
      "C:\\Users\\ALI\\miniconda3\\envs\\py24\\lib\\site-packages\\tqdm\\auto.py:21: TqdmWarning: IProgress not found. Please update jupyter and ipywidgets. See https://ipywidgets.readthedocs.io/en/stable/user_install.html\n",
      "  from .autonotebook import tqdm as notebook_tqdm\n"
     ]
    }
   ],
   "source": [
    "from __future__ import annotations\n",
    "\n",
    "import math\n",
    "from typing import Any, Optional\n",
    "\n",
    "import ee\n",
    "import pandas as pd\n",
    "\n",
    "import ee_utils"
   ]
  },
  {
   "cell_type": "markdown",
   "metadata": {},
   "source": [
    "Before using the Earth Engine API, you must perform a one-time authentication that authorizes access to Earth Engine on behalf of your Google account you registered at [https://code.earthengine.google.com](https://code.earthengine.google.com). The authentication process saves a credentials file to `$HOME/.config/earthengine/credentials` for future use.\n",
    "\n",
    "The following command `ee.Authenticate()` runs the authentication process. Once you successfully authenticate, you may comment out this command because you should not need to authenticate again in the future, unless you delete the credentials file. If you do not authenticate, the subsequent `ee.Initialize()` command below will fail.\n",
    "\n",
    "For more information, see [https://developers.google.com/earth-engine/python_install-conda.html](https://developers.google.com/earth-engine/python_install-conda.html)."
   ]
  },
  {
   "cell_type": "code",
   "execution_count": 3,
   "metadata": {},
   "outputs": [
    {
     "data": {
      "text/html": [
       "<p>To authorize access needed by Earth Engine, open the following\n",
       "        URL in a web browser and follow the instructions:</p>\n",
       "        <p><a href=https://code.earthengine.google.com/client-auth?scopes=https%3A//www.googleapis.com/auth/earthengine%20https%3A//www.googleapis.com/auth/devstorage.full_control&request_id=gAH4X37XiDbNNKaHzRYy0p2ipIooSuPmnC0oglu1mvc&tc=mdA4tYidax8NDc0_v-T3BU6Z0QHaP-1y-QwLedK7du8&cc=JNpOLh74JKM5uDTkes-waVI1qOZ5v1NX7Fn2oZ7kW2w>https://code.earthengine.google.com/client-auth?scopes=https%3A//www.googleapis.com/auth/earthengine%20https%3A//www.googleapis.com/auth/devstorage.full_control&request_id=gAH4X37XiDbNNKaHzRYy0p2ipIooSuPmnC0oglu1mvc&tc=mdA4tYidax8NDc0_v-T3BU6Z0QHaP-1y-QwLedK7du8&cc=JNpOLh74JKM5uDTkes-waVI1qOZ5v1NX7Fn2oZ7kW2w</a></p>\n",
       "        <p>The authorization workflow will generate a code, which you should paste in the box below.</p>\n",
       "        "
      ],
      "text/plain": [
       "<IPython.core.display.HTML object>"
      ]
     },
     "metadata": {},
     "output_type": "display_data"
    },
    {
     "name": "stdout",
     "output_type": "stream",
     "text": [
      "Enter verification code: 4/1AfJohXmaqZRLZfVxbRJn7_eXbTLSX0506ewCkuOq5vtfXwq3AwrCcJVSa9U\n",
      "\n",
      "Successfully saved authorization token.\n"
     ]
    }
   ],
   "source": [
    "ee.Authenticate()"
   ]
  },
  {
   "cell_type": "code",
   "execution_count": 4,
   "metadata": {},
   "outputs": [],
   "source": [
    "ee.Initialize()  # initialize the Earth Engine API"
   ]
  },
  {
   "cell_type": "markdown",
   "metadata": {},
   "source": [
    "## Constants"
   ]
  },
  {
   "cell_type": "code",
   "execution_count": 5,
   "metadata": {},
   "outputs": [],
   "source": [
    "# ========== ADAPT THESE PARAMETERS ==========\n",
    "\n",
    "# To export to Google Drive, uncomment the next 2 lines\n",
    "EXPORT = 'drive'\n",
    "BUCKET = None\n",
    "\n",
    "\n",
    "\n",
    "# export location paramet\n",
    "DHS_EXPORT_FOLDER = 'DHS'\n",
    "\n",
    "\n",
    "# Set CHUNK_SIZE to None to export a single TFRecord file per (country, year). However,\n",
    "# this may fail if it exceeds Google Earth Engine memory limits. Decrease CHUNK_SIZE\n",
    "# to a small number (<= 50) until Google Earth Engine stops reporting memory errors\n",
    "CHUNK_SIZE = 10 \n"
   ]
  },
  {
   "cell_type": "code",
   "execution_count": 6,
   "metadata": {},
   "outputs": [],
   "source": [
    "# input data paths\n",
    "# Modify the path of indicators from your data. \n",
    "# Example from DHS - from data/dhsfinal.csv\n",
    "DHS_CSV_PATH = '../../data/dhsfinal.csv'\n",
    "\n",
    "\n",
    "\n",
    "# band names\n",
    "MS_BANDS = ['BLUE', 'GREEN', 'RED', 'NIR', 'SWIR1', 'SWIR2', 'TEMP1']\n",
    "\n",
    "# image parameters\n",
    "PROJECTION = 'EPSG:3857'  # see https://epsg.io/3857\n",
    "SCALE = 30                # export resolution: 30m/px\n",
    "EXPORT_TILE_RADIUS = 127  # image dimension = (2*EXPORT_TILE_RADIUS) + 1 = 255px\n"
   ]
  },
  {
   "cell_type": "markdown",
   "metadata": {},
   "source": [
    "## Export Images"
   ]
  },
  {
   "cell_type": "code",
   "execution_count": 7,
   "metadata": {},
   "outputs": [],
   "source": [
    "def export_images(df: pd.DataFrame,\n",
    "                  country: str,\n",
    "                  year: int,\n",
    "                  export_folder: str,\n",
    "                  chunk_size: Optional[int] = None\n",
    "                  ) -> dict[tuple[str, str, int, int], ee.batch.Task]:\n",
    "    '''\n",
    "    Args\n",
    "    - df: pd.DataFrame, contains columns ['lat', 'lon', 'country', 'year']\n",
    "    - country: str, together with `year` determines the survey to export\n",
    "    - year: int, together with `country` determines the survey to export\n",
    "    - export_folder: str, name of folder for export\n",
    "    - chunk_size: int, optionally set a limit to the # of images exported per TFRecord file\n",
    "        - set to a small number (<= 50) if Google Earth Engine reports memory errors\n",
    "\n",
    "    Returns: dict, maps task name tuple (export_folder, country, year, chunk) to ee.batch.Task\n",
    "    '''\n",
    "    subset_df = df[(df['country'] == country) & (df['year'] == year)].reset_index(drop=True)\n",
    "    if chunk_size is None:\n",
    "        chunk_size = len(subset_df)\n",
    "    num_chunks = int(math.ceil(len(subset_df) / chunk_size))\n",
    "    tasks = {}\n",
    "\n",
    "    for i in range(num_chunks):\n",
    "        chunk_slice = slice(i * chunk_size, (i+1) * chunk_size - 1)  # df.loc[] is inclusive\n",
    "        fc = ee_utils.df_to_fc(subset_df.loc[chunk_slice, :])\n",
    "        start_date, end_date = ee_utils.surveyyear_to_range(year)\n",
    "\n",
    "        # create 3-year Landsat composite image\n",
    "        roi = fc.geometry()\n",
    "        imgcol = ee_utils.LandsatSR(roi, start_date=start_date, end_date=end_date).merged\n",
    "        imgcol = imgcol.map(ee_utils.mask_qaclear).select(MS_BANDS)\n",
    "        img = imgcol.median()\n",
    "\n",
    "        # add nightlights, latitude, and longitude bands\n",
    "        img = ee_utils.add_latlon(img)\n",
    "        img = img.addBands(ee_utils.composite_nl(year))\n",
    "\n",
    "        fname = f'{country}_{year}_{i:02d}'\n",
    "        tasks[(export_folder, country, year, i)] = ee_utils.get_array_patches(\n",
    "            img=img, scale=SCALE, ksize=EXPORT_TILE_RADIUS,\n",
    "            points=fc, export=EXPORT,\n",
    "            prefix=export_folder, fname=fname,\n",
    "            bucket=BUCKET)\n",
    "    return tasks"
   ]
  },
  {
   "cell_type": "code",
   "execution_count": 8,
   "metadata": {},
   "outputs": [],
   "source": [
    "tasks: dict[tuple[str, str, int, int], ee.batch.Task] = {}"
   ]
  },
  {
   "cell_type": "code",
   "execution_count": 9,
   "metadata": {},
   "outputs": [],
   "source": [
    "dhs_df = pd.read_csv(DHS_CSV_PATH, float_precision='high', index_col=False)\n",
    "dhs_surveys = list(dhs_df.groupby(['country', 'year']).groups.keys())\n",
    "for country, year in dhs_surveys:\n",
    "    new_tasks = export_images(\n",
    "        df=dhs_df, country=country, year=year,\n",
    "        export_folder=DHS_EXPORT_FOLDER, chunk_size=CHUNK_SIZE)\n",
    "    tasks.update(new_tasks)"
   ]
  },
  {
   "cell_type": "code",
   "execution_count": null,
   "metadata": {},
   "outputs": [],
   "source": [
    "ee_utils.wait_on_tasks(tasks, poll_interval=60)"
   ]
  },
  {
   "cell_type": "markdown",
   "metadata": {},
   "source": [
    "Check on the status of each export task at [https://code.earthengine.google.com/](https://code.earthengine.google.com/), or run the following cell which checks every minute. Once all tasks have completed, download the DHS TFRecord files to `data/dhs_tfrecords_raw/`, DHSNL TFRecord files to `data/dhsnl_tfrecords_raw/`, and LSMS TFRecord files to `data/lsms_tfrecords_raw/`."
   ]
  },
  {
   "cell_type": "code",
   "execution_count": null,
   "metadata": {},
   "outputs": [],
   "source": [
    "ee_utils.wait_on_tasks(tasks, poll_interval=60)"
   ]
  },
  {
   "cell_type": "code",
   "execution_count": null,
   "metadata": {},
   "outputs": [],
   "source": []
  }
 ],
 "metadata": {
  "kernelspec": {
   "display_name": "Python 3 (ipykernel)",
   "language": "python",
   "name": "python3"
  },
  "language_info": {
   "codemirror_mode": {
    "name": "ipython",
    "version": 3
   },
   "file_extension": ".py",
   "mimetype": "text/x-python",
   "name": "python",
   "nbconvert_exporter": "python",
   "pygments_lexer": "ipython3",
   "version": "3.11.4"
  },
  "toc": {
   "base_numbering": 1,
   "nav_menu": {},
   "number_sections": true,
   "sideBar": true,
   "skip_h1_title": false,
   "title_cell": "Table of Contents",
   "title_sidebar": "Contents",
   "toc_cell": true,
   "toc_position": {},
   "toc_section_display": true,
   "toc_window_display": true
  }
 },
 "nbformat": 4,
 "nbformat_minor": 4
}
